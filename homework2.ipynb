{
 "cells": [
  {
   "cell_type": "code",
   "execution_count": 1,
   "id": "599ceccf-eea2-4812-b8e5-ea4279461f97",
   "metadata": {},
   "outputs": [],
   "source": [
    "import pandas as pd\n",
    "import numpy as np"
   ]
  },
  {
   "cell_type": "code",
   "execution_count": 36,
   "id": "c077929f-6a77-4cd1-b189-6bf28c6a99c5",
   "metadata": {},
   "outputs": [],
   "source": [
    "df = pd.read_csv('car_fuel_efficiency.csv')"
   ]
  },
  {
   "cell_type": "code",
   "execution_count": 37,
   "id": "df134dba-35b9-4217-8c0e-0b49e2756b57",
   "metadata": {},
   "outputs": [
    {
     "data": {
      "text/html": [
       "<div>\n",
       "<style scoped>\n",
       "    .dataframe tbody tr th:only-of-type {\n",
       "        vertical-align: middle;\n",
       "    }\n",
       "\n",
       "    .dataframe tbody tr th {\n",
       "        vertical-align: top;\n",
       "    }\n",
       "\n",
       "    .dataframe thead th {\n",
       "        text-align: right;\n",
       "    }\n",
       "</style>\n",
       "<table border=\"1\" class=\"dataframe\">\n",
       "  <thead>\n",
       "    <tr style=\"text-align: right;\">\n",
       "      <th></th>\n",
       "      <th>engine_displacement</th>\n",
       "      <th>num_cylinders</th>\n",
       "      <th>horsepower</th>\n",
       "      <th>vehicle_weight</th>\n",
       "      <th>acceleration</th>\n",
       "      <th>model_year</th>\n",
       "      <th>origin</th>\n",
       "      <th>fuel_type</th>\n",
       "      <th>drivetrain</th>\n",
       "      <th>num_doors</th>\n",
       "      <th>fuel_efficiency_mpg</th>\n",
       "    </tr>\n",
       "  </thead>\n",
       "  <tbody>\n",
       "    <tr>\n",
       "      <th>0</th>\n",
       "      <td>170</td>\n",
       "      <td>3.0</td>\n",
       "      <td>159.0</td>\n",
       "      <td>3413.433759</td>\n",
       "      <td>17.7</td>\n",
       "      <td>2003</td>\n",
       "      <td>Europe</td>\n",
       "      <td>Gasoline</td>\n",
       "      <td>All-wheel drive</td>\n",
       "      <td>0.0</td>\n",
       "      <td>13.231729</td>\n",
       "    </tr>\n",
       "    <tr>\n",
       "      <th>1</th>\n",
       "      <td>130</td>\n",
       "      <td>5.0</td>\n",
       "      <td>97.0</td>\n",
       "      <td>3149.664934</td>\n",
       "      <td>17.8</td>\n",
       "      <td>2007</td>\n",
       "      <td>USA</td>\n",
       "      <td>Gasoline</td>\n",
       "      <td>Front-wheel drive</td>\n",
       "      <td>0.0</td>\n",
       "      <td>13.688217</td>\n",
       "    </tr>\n",
       "    <tr>\n",
       "      <th>2</th>\n",
       "      <td>170</td>\n",
       "      <td>NaN</td>\n",
       "      <td>78.0</td>\n",
       "      <td>3079.038997</td>\n",
       "      <td>15.1</td>\n",
       "      <td>2018</td>\n",
       "      <td>Europe</td>\n",
       "      <td>Gasoline</td>\n",
       "      <td>Front-wheel drive</td>\n",
       "      <td>0.0</td>\n",
       "      <td>14.246341</td>\n",
       "    </tr>\n",
       "    <tr>\n",
       "      <th>3</th>\n",
       "      <td>220</td>\n",
       "      <td>4.0</td>\n",
       "      <td>NaN</td>\n",
       "      <td>2542.392402</td>\n",
       "      <td>20.2</td>\n",
       "      <td>2009</td>\n",
       "      <td>USA</td>\n",
       "      <td>Diesel</td>\n",
       "      <td>All-wheel drive</td>\n",
       "      <td>2.0</td>\n",
       "      <td>16.912736</td>\n",
       "    </tr>\n",
       "    <tr>\n",
       "      <th>4</th>\n",
       "      <td>210</td>\n",
       "      <td>1.0</td>\n",
       "      <td>140.0</td>\n",
       "      <td>3460.870990</td>\n",
       "      <td>14.4</td>\n",
       "      <td>2009</td>\n",
       "      <td>Europe</td>\n",
       "      <td>Gasoline</td>\n",
       "      <td>All-wheel drive</td>\n",
       "      <td>2.0</td>\n",
       "      <td>12.488369</td>\n",
       "    </tr>\n",
       "  </tbody>\n",
       "</table>\n",
       "</div>"
      ],
      "text/plain": [
       "   engine_displacement  num_cylinders  horsepower  vehicle_weight  \\\n",
       "0                  170            3.0       159.0     3413.433759   \n",
       "1                  130            5.0        97.0     3149.664934   \n",
       "2                  170            NaN        78.0     3079.038997   \n",
       "3                  220            4.0         NaN     2542.392402   \n",
       "4                  210            1.0       140.0     3460.870990   \n",
       "\n",
       "   acceleration  model_year  origin fuel_type         drivetrain  num_doors  \\\n",
       "0          17.7        2003  Europe  Gasoline    All-wheel drive        0.0   \n",
       "1          17.8        2007     USA  Gasoline  Front-wheel drive        0.0   \n",
       "2          15.1        2018  Europe  Gasoline  Front-wheel drive        0.0   \n",
       "3          20.2        2009     USA    Diesel    All-wheel drive        2.0   \n",
       "4          14.4        2009  Europe  Gasoline    All-wheel drive        2.0   \n",
       "\n",
       "   fuel_efficiency_mpg  \n",
       "0            13.231729  \n",
       "1            13.688217  \n",
       "2            14.246341  \n",
       "3            16.912736  \n",
       "4            12.488369  "
      ]
     },
     "execution_count": 37,
     "metadata": {},
     "output_type": "execute_result"
    }
   ],
   "source": [
    "df.head()"
   ]
  },
  {
   "cell_type": "code",
   "execution_count": 38,
   "id": "96267f12-facf-4bfa-9569-62bf7c0e9056",
   "metadata": {},
   "outputs": [],
   "source": [
    "key_par = ['engine_displacement','horsepower','vehicle_weight','model_year','fuel_efficiency_mpg']"
   ]
  },
  {
   "cell_type": "markdown",
   "id": "ff78e56f-acb0-4d29-b99f-90d22847ee59",
   "metadata": {},
   "source": [
    "## EDA"
   ]
  },
  {
   "cell_type": "code",
   "execution_count": 39,
   "id": "f26f111d-f3fe-4e8c-8c72-845d590144bf",
   "metadata": {},
   "outputs": [
    {
     "data": {
      "text/html": [
       "<div>\n",
       "<style scoped>\n",
       "    .dataframe tbody tr th:only-of-type {\n",
       "        vertical-align: middle;\n",
       "    }\n",
       "\n",
       "    .dataframe tbody tr th {\n",
       "        vertical-align: top;\n",
       "    }\n",
       "\n",
       "    .dataframe thead th {\n",
       "        text-align: right;\n",
       "    }\n",
       "</style>\n",
       "<table border=\"1\" class=\"dataframe\">\n",
       "  <thead>\n",
       "    <tr style=\"text-align: right;\">\n",
       "      <th></th>\n",
       "      <th>engine_displacement</th>\n",
       "      <th>horsepower</th>\n",
       "      <th>vehicle_weight</th>\n",
       "      <th>model_year</th>\n",
       "      <th>fuel_efficiency_mpg</th>\n",
       "    </tr>\n",
       "  </thead>\n",
       "  <tbody>\n",
       "    <tr>\n",
       "      <th>0</th>\n",
       "      <td>170</td>\n",
       "      <td>159.0</td>\n",
       "      <td>3413.433759</td>\n",
       "      <td>2003</td>\n",
       "      <td>13.231729</td>\n",
       "    </tr>\n",
       "    <tr>\n",
       "      <th>1</th>\n",
       "      <td>130</td>\n",
       "      <td>97.0</td>\n",
       "      <td>3149.664934</td>\n",
       "      <td>2007</td>\n",
       "      <td>13.688217</td>\n",
       "    </tr>\n",
       "    <tr>\n",
       "      <th>2</th>\n",
       "      <td>170</td>\n",
       "      <td>78.0</td>\n",
       "      <td>3079.038997</td>\n",
       "      <td>2018</td>\n",
       "      <td>14.246341</td>\n",
       "    </tr>\n",
       "    <tr>\n",
       "      <th>3</th>\n",
       "      <td>220</td>\n",
       "      <td>NaN</td>\n",
       "      <td>2542.392402</td>\n",
       "      <td>2009</td>\n",
       "      <td>16.912736</td>\n",
       "    </tr>\n",
       "    <tr>\n",
       "      <th>4</th>\n",
       "      <td>210</td>\n",
       "      <td>140.0</td>\n",
       "      <td>3460.870990</td>\n",
       "      <td>2009</td>\n",
       "      <td>12.488369</td>\n",
       "    </tr>\n",
       "    <tr>\n",
       "      <th>...</th>\n",
       "      <td>...</td>\n",
       "      <td>...</td>\n",
       "      <td>...</td>\n",
       "      <td>...</td>\n",
       "      <td>...</td>\n",
       "    </tr>\n",
       "    <tr>\n",
       "      <th>9699</th>\n",
       "      <td>140</td>\n",
       "      <td>164.0</td>\n",
       "      <td>2981.107371</td>\n",
       "      <td>2013</td>\n",
       "      <td>15.101802</td>\n",
       "    </tr>\n",
       "    <tr>\n",
       "      <th>9700</th>\n",
       "      <td>180</td>\n",
       "      <td>154.0</td>\n",
       "      <td>2439.525729</td>\n",
       "      <td>2004</td>\n",
       "      <td>17.962326</td>\n",
       "    </tr>\n",
       "    <tr>\n",
       "      <th>9701</th>\n",
       "      <td>220</td>\n",
       "      <td>138.0</td>\n",
       "      <td>2583.471318</td>\n",
       "      <td>2008</td>\n",
       "      <td>17.186587</td>\n",
       "    </tr>\n",
       "    <tr>\n",
       "      <th>9702</th>\n",
       "      <td>230</td>\n",
       "      <td>177.0</td>\n",
       "      <td>2905.527390</td>\n",
       "      <td>2011</td>\n",
       "      <td>15.331551</td>\n",
       "    </tr>\n",
       "    <tr>\n",
       "      <th>9703</th>\n",
       "      <td>270</td>\n",
       "      <td>140.0</td>\n",
       "      <td>2908.043477</td>\n",
       "      <td>2005</td>\n",
       "      <td>14.884467</td>\n",
       "    </tr>\n",
       "  </tbody>\n",
       "</table>\n",
       "<p>9704 rows × 5 columns</p>\n",
       "</div>"
      ],
      "text/plain": [
       "      engine_displacement  horsepower  vehicle_weight  model_year  \\\n",
       "0                     170       159.0     3413.433759        2003   \n",
       "1                     130        97.0     3149.664934        2007   \n",
       "2                     170        78.0     3079.038997        2018   \n",
       "3                     220         NaN     2542.392402        2009   \n",
       "4                     210       140.0     3460.870990        2009   \n",
       "...                   ...         ...             ...         ...   \n",
       "9699                  140       164.0     2981.107371        2013   \n",
       "9700                  180       154.0     2439.525729        2004   \n",
       "9701                  220       138.0     2583.471318        2008   \n",
       "9702                  230       177.0     2905.527390        2011   \n",
       "9703                  270       140.0     2908.043477        2005   \n",
       "\n",
       "      fuel_efficiency_mpg  \n",
       "0               13.231729  \n",
       "1               13.688217  \n",
       "2               14.246341  \n",
       "3               16.912736  \n",
       "4               12.488369  \n",
       "...                   ...  \n",
       "9699            15.101802  \n",
       "9700            17.962326  \n",
       "9701            17.186587  \n",
       "9702            15.331551  \n",
       "9703            14.884467  \n",
       "\n",
       "[9704 rows x 5 columns]"
      ]
     },
     "execution_count": 39,
     "metadata": {},
     "output_type": "execute_result"
    }
   ],
   "source": [
    "data = df[key_par]\n",
    "data"
   ]
  },
  {
   "cell_type": "code",
   "execution_count": 40,
   "id": "c0783221-76c5-4505-bd04-7db9c080a763",
   "metadata": {},
   "outputs": [
    {
     "data": {
      "text/plain": [
       "count    9704.000000\n",
       "mean       14.985243\n",
       "std         2.556468\n",
       "min         6.200971\n",
       "25%        13.267459\n",
       "50%        15.006037\n",
       "75%        16.707965\n",
       "max        25.967222\n",
       "Name: fuel_efficiency_mpg, dtype: float64"
      ]
     },
     "execution_count": 40,
     "metadata": {},
     "output_type": "execute_result"
    }
   ],
   "source": [
    "data['fuel_efficiency_mpg'].describe()"
   ]
  },
  {
   "cell_type": "code",
   "execution_count": 41,
   "id": "caa6dd2f-cfce-4e6b-b020-015a403bb7b8",
   "metadata": {},
   "outputs": [],
   "source": [
    "import matplotlib.pyplot as plt\n",
    "import seaborn as sns"
   ]
  },
  {
   "cell_type": "code",
   "execution_count": 42,
   "id": "179f7a7b-91bd-443f-b568-cd818a65567e",
   "metadata": {},
   "outputs": [
    {
     "data": {
      "image/png": "[encoded data removed]",
      "text/plain": [
       "<Figure size 640x480 with 1 Axes>"
      ]
     },
     "metadata": {},
     "output_type": "display_data"
    }
   ],
   "source": [
    "sns.histplot(data.fuel_efficiency_mpg, bins=50)\n",
    "plt.show()"
   ]
  },
  {
   "cell_type": "markdown",
   "id": "efa6b061-5174-4db6-8308-70db7b9944f0",
   "metadata": {},
   "source": [
    "### No long tail"
   ]
  },
  {
   "cell_type": "markdown",
   "id": "f6a8859c-f170-45ee-ac2d-75fa96a41302",
   "metadata": {},
   "source": [
    "## question 1\n",
    "### There's one column with missing values. What is it?\n",
    "#### 'engine_displacement' 'horsepower' 'vehicle_weight' 'model_year'"
   ]
  },
  {
   "cell_type": "code",
   "execution_count": 43,
   "id": "fb9cf544-33be-4207-8256-0cd078f55f51",
   "metadata": {},
   "outputs": [
    {
     "data": {
      "text/plain": [
       "engine_displacement      0\n",
       "horsepower             708\n",
       "vehicle_weight           0\n",
       "model_year               0\n",
       "dtype: int64"
      ]
     },
     "execution_count": 43,
     "metadata": {},
     "output_type": "execute_result"
    }
   ],
   "source": [
    "data[['engine_displacement','horsepower','vehicle_weight','model_year']].isnull().sum()"
   ]
  },
  {
   "cell_type": "code",
   "execution_count": 44,
   "id": "462a3d6e-541d-4f10-b5a1-d5af8378bb9f",
   "metadata": {},
   "outputs": [
    {
     "name": "stdout",
     "output_type": "stream",
     "text": [
      "hrsepower have 708 rows missing\n"
     ]
    }
   ],
   "source": [
    "print('hrsepower have 708 rows missing')"
   ]
  },
  {
   "cell_type": "code",
   "execution_count": 45,
   "id": "4d2c0ca5-568e-4d89-9af5-973fd62bfd83",
   "metadata": {},
   "outputs": [
    {
     "name": "stdout",
     "output_type": "stream",
     "text": [
      "the median for horsepower 149.0\n"
     ]
    }
   ],
   "source": [
    "print('the median for horsepower',data['horsepower'].median())"
   ]
  },
  {
   "cell_type": "code",
   "execution_count": 46,
   "id": "0303ba9a-b361-4e40-8763-5af5a1c85bf7",
   "metadata": {},
   "outputs": [],
   "source": [
    "n = len(data)\n",
    "idx = np.arange(n)\n",
    "np.random.seed(42)\n",
    "np.random.shuffle(idx)"
   ]
  },
  {
   "cell_type": "code",
   "execution_count": 47,
   "id": "67dcee83-c748-48e7-9acb-5a9dd218a97b",
   "metadata": {},
   "outputs": [],
   "source": [
    "n_train = int(0.6*n)\n",
    "n_val = int(0.2*n)\n",
    "n_test = int(0.2*n)"
   ]
  },
  {
   "cell_type": "code",
   "execution_count": 51,
   "id": "9fe30f6e-fb38-4626-9b56-49607b7d5bfa",
   "metadata": {},
   "outputs": [],
   "source": [
    "data_train = data.iloc[idx[:n_train]]\n",
    "data_val = data.iloc[idx[n_train:n_train+n_val]]\n",
    "data_test = data.iloc[idx[n_train+n_val:]]\n",
    "\n",
    "y_train = data_train.fuel_efficiency_mpg.values\n",
    "y_val = data_val.fuel_efficiency_mpg.values\n",
    "y_test = data_test.fuel_efficiency_mpg.values\n",
    "\n",
    "del data_train['fuel_efficiency_mpg']\n",
    "del data_val['fuel_efficiency_mpg']\n",
    "del data_test['fuel_efficiency_mpg']\n",
    "\n"
   ]
  },
  {
   "cell_type": "code",
   "execution_count": 52,
   "id": "4108f491-b104-4d52-8af0-cfaefe727132",
   "metadata": {},
   "outputs": [
    {
     "name": "stdout",
     "output_type": "stream",
     "text": [
      "Question 3\n"
     ]
    }
   ],
   "source": [
    "print('Question 3')"
   ]
  },
  {
   "cell_type": "code",
   "execution_count": 53,
   "id": "6c4d39af-bf28-4d05-99d5-5489025bcc22",
   "metadata": {},
   "outputs": [
    {
     "name": "stdout",
     "output_type": "stream",
     "text": [
      "medthod 1 using 0 to fill missing value\n"
     ]
    }
   ],
   "source": [
    "print('medthod 1 using 0 to fill missing value')"
   ]
  },
  {
   "cell_type": "code",
   "execution_count": 54,
   "id": "755b386d-9fa2-47cb-b7a4-d83403b0745e",
   "metadata": {},
   "outputs": [
    {
     "data": {
      "text/html": [
       "<div>\n",
       "<style scoped>\n",
       "    .dataframe tbody tr th:only-of-type {\n",
       "        vertical-align: middle;\n",
       "    }\n",
       "\n",
       "    .dataframe tbody tr th {\n",
       "        vertical-align: top;\n",
       "    }\n",
       "\n",
       "    .dataframe thead th {\n",
       "        text-align: right;\n",
       "    }\n",
       "</style>\n",
       "<table border=\"1\" class=\"dataframe\">\n",
       "  <thead>\n",
       "    <tr style=\"text-align: right;\">\n",
       "      <th></th>\n",
       "      <th>engine_displacement</th>\n",
       "      <th>horsepower</th>\n",
       "      <th>vehicle_weight</th>\n",
       "      <th>model_year</th>\n",
       "    </tr>\n",
       "  </thead>\n",
       "  <tbody>\n",
       "    <tr>\n",
       "      <th>483</th>\n",
       "      <td>220</td>\n",
       "      <td>144.0</td>\n",
       "      <td>2535.887591</td>\n",
       "      <td>2009</td>\n",
       "    </tr>\n",
       "    <tr>\n",
       "      <th>7506</th>\n",
       "      <td>160</td>\n",
       "      <td>141.0</td>\n",
       "      <td>2741.170484</td>\n",
       "      <td>2019</td>\n",
       "    </tr>\n",
       "    <tr>\n",
       "      <th>8795</th>\n",
       "      <td>230</td>\n",
       "      <td>155.0</td>\n",
       "      <td>2471.880237</td>\n",
       "      <td>2017</td>\n",
       "    </tr>\n",
       "    <tr>\n",
       "      <th>1688</th>\n",
       "      <td>150</td>\n",
       "      <td>206.0</td>\n",
       "      <td>3748.164469</td>\n",
       "      <td>2015</td>\n",
       "    </tr>\n",
       "    <tr>\n",
       "      <th>6217</th>\n",
       "      <td>300</td>\n",
       "      <td>111.0</td>\n",
       "      <td>2135.716359</td>\n",
       "      <td>2006</td>\n",
       "    </tr>\n",
       "    <tr>\n",
       "      <th>...</th>\n",
       "      <td>...</td>\n",
       "      <td>...</td>\n",
       "      <td>...</td>\n",
       "      <td>...</td>\n",
       "    </tr>\n",
       "    <tr>\n",
       "      <th>8387</th>\n",
       "      <td>160</td>\n",
       "      <td>111.0</td>\n",
       "      <td>3038.134712</td>\n",
       "      <td>2002</td>\n",
       "    </tr>\n",
       "    <tr>\n",
       "      <th>7331</th>\n",
       "      <td>160</td>\n",
       "      <td>157.0</td>\n",
       "      <td>2877.624938</td>\n",
       "      <td>2006</td>\n",
       "    </tr>\n",
       "    <tr>\n",
       "      <th>1696</th>\n",
       "      <td>260</td>\n",
       "      <td>139.0</td>\n",
       "      <td>2606.972984</td>\n",
       "      <td>2009</td>\n",
       "    </tr>\n",
       "    <tr>\n",
       "      <th>5685</th>\n",
       "      <td>280</td>\n",
       "      <td>132.0</td>\n",
       "      <td>4004.214323</td>\n",
       "      <td>2014</td>\n",
       "    </tr>\n",
       "    <tr>\n",
       "      <th>6735</th>\n",
       "      <td>210</td>\n",
       "      <td>152.0</td>\n",
       "      <td>2500.175687</td>\n",
       "      <td>2020</td>\n",
       "    </tr>\n",
       "  </tbody>\n",
       "</table>\n",
       "<p>5822 rows × 4 columns</p>\n",
       "</div>"
      ],
      "text/plain": [
       "      engine_displacement  horsepower  vehicle_weight  model_year\n",
       "483                   220       144.0     2535.887591        2009\n",
       "7506                  160       141.0     2741.170484        2019\n",
       "8795                  230       155.0     2471.880237        2017\n",
       "1688                  150       206.0     3748.164469        2015\n",
       "6217                  300       111.0     2135.716359        2006\n",
       "...                   ...         ...             ...         ...\n",
       "8387                  160       111.0     3038.134712        2002\n",
       "7331                  160       157.0     2877.624938        2006\n",
       "1696                  260       139.0     2606.972984        2009\n",
       "5685                  280       132.0     4004.214323        2014\n",
       "6735                  210       152.0     2500.175687        2020\n",
       "\n",
       "[5822 rows x 4 columns]"
      ]
     },
     "execution_count": 54,
     "metadata": {},
     "output_type": "execute_result"
    }
   ],
   "source": [
    "data_train"
   ]
  },
  {
   "cell_type": "code",
   "execution_count": 55,
   "id": "39732d49-86b9-41b2-b139-a59769e11a58",
   "metadata": {},
   "outputs": [
    {
     "data": {
      "text/plain": [
       "array([16.64294342, 16.29837715, 18.59182197, ..., 16.96405425,\n",
       "       10.05909406, 17.59323665])"
      ]
     },
     "execution_count": 55,
     "metadata": {},
     "output_type": "execute_result"
    }
   ],
   "source": [
    "y_train"
   ]
  },
  {
   "cell_type": "code",
   "execution_count": 71,
   "id": "4791e330-199f-452d-b7e4-64b492ea8ff7",
   "metadata": {},
   "outputs": [],
   "source": [
    "def train_linear_regression(X,y):\n",
    "    ones = np.ones(X.shape[0])\n",
    "    X = np.column_stack([ones,X])\n",
    "\n",
    "    XTX = X.T.dot(X)\n",
    "    XTX_inv = np.linalg.inv(XTX)\n",
    "    w_full = XTX_inv.dot(X.T).dot(y)\n",
    "\n",
    "    return w_full[0],w_full[1:]"
   ]
  },
  {
   "cell_type": "code",
   "execution_count": 72,
   "id": "ee7f3692-c42b-4033-8d7e-e52948153123",
   "metadata": {},
   "outputs": [],
   "source": [
    "X_train = data_train.fillna(0).values\n",
    "w0,w = train_linear_regression(X_train,y_train)\n",
    "y_pred = w0 + X_train.dot(w)"
   ]
  },
  {
   "cell_type": "code",
   "execution_count": 73,
   "id": "d2be2c8b-5000-43ac-8112-ebb0b95acae4",
   "metadata": {},
   "outputs": [
    {
     "data": {
      "text/plain": [
       "np.float64(28.810749329447)"
      ]
     },
     "execution_count": 73,
     "metadata": {},
     "output_type": "execute_result"
    }
   ],
   "source": [
    "w0"
   ]
  },
  {
   "cell_type": "code",
   "execution_count": 74,
   "id": "cb45e232-a43a-465e-8867-e707118cd9a6",
   "metadata": {},
   "outputs": [
    {
     "data": {
      "text/plain": [
       "array([ 9.88022381e-05,  3.54195814e-03, -5.01316573e-03,  3.51135284e-04])"
      ]
     },
     "execution_count": 74,
     "metadata": {},
     "output_type": "execute_result"
    }
   ],
   "source": [
    "w"
   ]
  },
  {
   "cell_type": "code",
   "execution_count": 75,
   "id": "018cc68e-ee1f-4101-80e4-7b7f68c9edd0",
   "metadata": {},
   "outputs": [],
   "source": [
    "mean = data_train['horsepower'].mean()"
   ]
  },
  {
   "cell_type": "code",
   "execution_count": 76,
   "id": "3da40093-749b-49cd-a595-d1feafd5fdb7",
   "metadata": {},
   "outputs": [],
   "source": [
    "X_train_mean = data_train.fillna(mean).values"
   ]
  },
  {
   "cell_type": "code",
   "execution_count": 77,
   "id": "0c4deb8c-5975-4d90-ae12-c60befb61c53",
   "metadata": {},
   "outputs": [],
   "source": [
    "w0_mean,w_mean = train_linear_regression(X_train_mean,y_train)\n",
    "y_pred_mean = w0_mean + X_train.dot(w_mean)"
   ]
  },
  {
   "cell_type": "code",
   "execution_count": 78,
   "id": "a63785ca-b66d-459e-89b1-b7bc28502d0d",
   "metadata": {},
   "outputs": [
    {
     "data": {
      "text/plain": [
       "np.float64(28.90711061673742)"
      ]
     },
     "execution_count": 78,
     "metadata": {},
     "output_type": "execute_result"
    }
   ],
   "source": [
    "w0_mean"
   ]
  },
  {
   "cell_type": "code",
   "execution_count": 79,
   "id": "14e2668f-162b-487c-9b78-a26738f689e0",
   "metadata": {},
   "outputs": [
    {
     "data": {
      "text/plain": [
       "array([ 0.00012034,  0.01030286, -0.00500997, -0.00022574])"
      ]
     },
     "execution_count": 79,
     "metadata": {},
     "output_type": "execute_result"
    }
   ],
   "source": [
    "w_mean"
   ]
  },
  {
   "cell_type": "code",
   "execution_count": 102,
   "id": "b7e19cfa-bc81-44a9-a926-30fe606ef758",
   "metadata": {},
   "outputs": [],
   "source": [
    "def rmse(y,y_pred):\n",
    "    se = (y-y_pred)**2\n",
    "    mse = se.mean()\n",
    "    return np.sqrt(mse)"
   ]
  },
  {
   "cell_type": "code",
   "execution_count": 82,
   "id": "25e796d8-071c-4f62-b3e8-5f1113fbde1d",
   "metadata": {},
   "outputs": [],
   "source": [
    "y_pred_val = w0+data_val.dot(w)"
   ]
  },
  {
   "cell_type": "code",
   "execution_count": 84,
   "id": "5faa5e8e-3cd2-4e89-999d-73221cd4360c",
   "metadata": {},
   "outputs": [],
   "source": [
    "y_pred_val_mean = w0_mean+data_val.dot(w_mean)"
   ]
  },
  {
   "cell_type": "code",
   "execution_count": 86,
   "id": "2ffdac07-0060-4194-ba44-72e92fce4c10",
   "metadata": {},
   "outputs": [],
   "source": [
    "val_rmse = rmse(y_val,y_pred_val)\n",
    "val_rmse_mean = rmse(y_val,y_pred_val_mean)"
   ]
  },
  {
   "cell_type": "code",
   "execution_count": 91,
   "id": "59fa7a21-73e5-4d7d-8da6-9d3e53f92b5a",
   "metadata": {},
   "outputs": [
    {
     "data": {
      "text/plain": [
       "np.float64(0.5)"
      ]
     },
     "execution_count": 91,
     "metadata": {},
     "output_type": "execute_result"
    }
   ],
   "source": [
    "round(val_rmse,2)"
   ]
  },
  {
   "cell_type": "code",
   "execution_count": 92,
   "id": "6db168f7-9425-4b2a-8bc5-f21e768a8e76",
   "metadata": {},
   "outputs": [
    {
     "data": {
      "text/plain": [
       "np.float64(0.45)"
      ]
     },
     "execution_count": 92,
     "metadata": {},
     "output_type": "execute_result"
    }
   ],
   "source": [
    "round(val_rmse_mean,2)"
   ]
  },
  {
   "cell_type": "code",
   "execution_count": 93,
   "id": "1009e954-73ef-49f4-84db-2a3462ca7ad0",
   "metadata": {},
   "outputs": [],
   "source": [
    "def train_linear_regression_reg(X,y,r = 0.001):\n",
    "    ones = np.ones(X.shape[0])\n",
    "    X = np.column_stack([ones,X])\n",
    "\n",
    "    XTX = X.T.dot(X)\n",
    "    XTX = XTX + r * np.eye(XTX.shape[0])\n",
    "    XTX_inv = np.linalg.inv(XTX)\n",
    "    w_full = XTX_inv.dot(X.T).dot(y)\n",
    "    return w_full[0],w_full[1:]"
   ]
  },
  {
   "cell_type": "code",
   "execution_count": 97,
   "id": "84430e34-e3fe-4ce6-81b7-8e0cf1112cef",
   "metadata": {},
   "outputs": [
    {
     "name": "stdout",
     "output_type": "stream",
     "text": [
      "0 0.497\n",
      "0.01 0.496\n",
      "0.1 0.498\n",
      "1 0.502\n",
      "5 0.503\n",
      "10 0.503\n",
      "100 0.503\n"
     ]
    }
   ],
   "source": [
    "for r in [0, 0.01, 0.1, 1, 5, 10, 100]:\n",
    "    w0,w = train_linear_regression_reg(X_train,y_train,r = r)\n",
    "    y_pred = w0+data_val.dot(w)\n",
    "    score = rmse(y_val,y_pred)\n",
    "    print(r,round(score,3))"
   ]
  },
  {
   "cell_type": "code",
   "execution_count": 103,
   "id": "3d312787-05e9-42ad-ba77-800ca2613431",
   "metadata": {},
   "outputs": [],
   "source": [
    "\n",
    "seeds = [0, 1, 2, 3, 4, 5, 6, 7, 8, 9]\n",
    "rmse_collect = {}\n",
    "for seed in seeds:\n",
    "    idx = np.arange(n)\n",
    "    np.random.seed(seed)\n",
    "    np.random.shuffle(idx)\n",
    "    data_fill_0 = data.fillna(0)\n",
    "    data_train = data_fill_0.iloc[idx[:n_train]]\n",
    "    data_val = data_fill_0.iloc[idx[n_train:n_train+n_val]]\n",
    "    data_test = data_fill_0.iloc[idx[n_train+n_val:]]\n",
    "\n",
    "    y_train = data_train.fuel_efficiency_mpg.values\n",
    "    y_val = data_val.fuel_efficiency_mpg.values\n",
    "    y_test = data_test.fuel_efficiency_mpg.values\n",
    "\n",
    "    del data_train['fuel_efficiency_mpg']\n",
    "    del data_val['fuel_efficiency_mpg']\n",
    "    del data_test['fuel_efficiency_mpg']\n",
    "    X_train = data_train.values\n",
    "    w0,w = train_linear_regression(X_train,y_train)\n",
    "    y_pred = w0 +data_val.dot(w)\n",
    "    rmse_collect[seed] = rmse(y_val,y_pred)"
   ]
  },
  {
   "cell_type": "code",
   "execution_count": 104,
   "id": "85c47699-6fc0-4080-9141-34a042a2f4a6",
   "metadata": {},
   "outputs": [
    {
     "data": {
      "text/plain": [
       "{0: np.float64(0.5210993169601764),\n",
       " 1: np.float64(0.5218422383656937),\n",
       " 2: np.float64(0.5230384520042021),\n",
       " 3: np.float64(0.5161215334520273),\n",
       " 4: np.float64(0.5111869530280668),\n",
       " 5: np.float64(0.5286833855544149),\n",
       " 6: np.float64(0.532241891856728),\n",
       " 7: np.float64(0.5095258233932749),\n",
       " 8: np.float64(0.5149083792268891),\n",
       " 9: np.float64(0.5131330922627657)}"
      ]
     },
     "execution_count": 104,
     "metadata": {},
     "output_type": "execute_result"
    }
   ],
   "source": []
  },
  {
   "cell_type": "code",
   "execution_count": 115,
   "id": "88c92058-e390-49cc-be36-885362ce51cd",
   "metadata": {},
   "outputs": [
    {
     "data": {
      "text/plain": [
       "np.float64(0.007)"
      ]
     },
     "execution_count": 115,
     "metadata": {},
     "output_type": "execute_result"
    }
   ],
   "source": [
    "round(np.std(np.array(list(rmse_collect.values()))),3)"
   ]
  },
  {
   "cell_type": "code",
   "execution_count": 116,
   "id": "5328e23e-ea0e-40a7-ab35-4ee4990a6eaf",
   "metadata": {},
   "outputs": [
    {
     "name": "stdout",
     "output_type": "stream",
     "text": [
      "question6\n"
     ]
    }
   ],
   "source": [
    "print('question6')"
   ]
  },
  {
   "cell_type": "code",
   "execution_count": 117,
   "id": "bc7f5c60-b630-4172-8913-74f6b977b5e6",
   "metadata": {},
   "outputs": [],
   "source": [
    "seed = 9\n",
    "idx = np.arange(n)\n",
    "np.random.seed(seed)\n",
    "np.random.shuffle(idx)\n",
    "data_fill_0 = data.fillna(0)\n",
    "data_train = data_fill_0.iloc[idx[:n_train]]\n",
    "data_val = data_fill_0.iloc[idx[n_train:n_train+n_val]]\n",
    "data_test = data_fill_0.iloc[idx[n_train+n_val:]]\n",
    "y_train = data_train.fuel_efficiency_mpg.values\n",
    "y_val = data_val.fuel_efficiency_mpg.values\n",
    "y_test = data_test.fuel_efficiency_mpg.values\n",
    "del data_train['fuel_efficiency_mpg']\n",
    "del data_val['fuel_efficiency_mpg']\n",
    "del data_test['fuel_efficiency_mpg']"
   ]
  },
  {
   "cell_type": "code",
   "execution_count": 119,
   "id": "d7c73506-7168-42cc-a2ea-4b8faa79b392",
   "metadata": {},
   "outputs": [
    {
     "data": {
      "text/plain": [
       "np.float64(0.515504336928875)"
      ]
     },
     "execution_count": 119,
     "metadata": {},
     "output_type": "execute_result"
    }
   ],
   "source": [
    "df_full_train = pd.concat([data_train, data_val])\n",
    "y_full_train = np.concatenate([y_train, y_val])\n",
    "w0, w = train_linear_regression_reg(df_full_train, y_full_train, r=0.001)\n",
    "y_pred = w0+data_test.dot(w)\n",
    "rmse(y_test,y_pred)"
   ]
  },
  {
   "cell_type": "code",
   "execution_count": null,
   "id": "f2bccb85-22b9-407b-bf80-d7e2e891cefc",
   "metadata": {},
   "outputs": [],
   "source": []
  }
 ],
 "metadata": {
  "kernelspec": {
   "display_name": "Python [conda env:base] *",
   "language": "python",
   "name": "conda-base-py"
  },
  "language_info": {
   "codemirror_mode": {
    "name": "ipython",
    "version": 3
   },
   "file_extension": ".py",
   "mimetype": "text/x-python",
   "name": "python",
   "nbconvert_exporter": "python",
   "pygments_lexer": "ipython3",
   "version": "3.13.5"
  }
 },
 "nbformat": 4,
 "nbformat_minor": 5
}
